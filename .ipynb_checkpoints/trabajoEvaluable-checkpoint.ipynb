{
 "cells": [
  {
   "cell_type": "markdown",
   "id": "d716bc9a-e003-481c-ab21-22714058e00c",
   "metadata": {},
   "source": [
    "# Ejercicios Evaluables\n",
    "1. Tal y como ya hemos visto en clase, la variedad de herramientas proporcionadas por el álgebra lineal son cruciales para desarrollar y fundamentar las bases de una variedad de técnicas relacionadas con el aprendizaje automático. Con ella, podemos describir el proceso de propagación hacia adelante en una red neuronal, identificar mínimos locales en funciones multivariables (crucial para el proceso de retro propagación) o la descripción y empleo de métodos en reducción de la dimensionalidad, como el análisis de componentes principales (PCA), entre michas aplicaciones.<br>\n",
    "Cuando trabajamos en la práctica dentro de este ámbito, la cantidad de datos que manejamos puede ser muy grande, por lo que es especialmente importante emplear algoritmos eficientes y optimizados para reducir el coste computacional en la medida de lo posible. Por ello, el objetivo de este ejercicio es el de ilustrar las diferentes alternativas que pueden existir para realizar un proceso relacionado con el álgebra lineal y el impacto que puede tener cada variante en términos del coste computacional del mismo. En este caso particular, y a modo de ilustración, nos centraremos en el cálculo del determinante de una matriz.\n"
   ]
  },
  {
   "cell_type": "markdown",
   "id": "5671c4d2-d2cf-428d-8f63-293d5edda3de",
   "metadata": {},
   "source": [
    "a) Implementa una función, determinate_recursivo, que obtenga el determinante de una matriz cuadrada utilizando la definición recursiva de Laplace\n",
    "**Regla de Laplace:** La regla de Laplace es un método que permite calcular rápidamente el determinante de una matriz cuadrada mediante una serie de expansión recursiva.<br>\n",
    "Pa poder entenderlo de mejor manera, la regla de Laplace factoriza la matriz inicial en matrices de menor dimensión y ajusta su sugnoo en función de la posición del elemento en la matriz.<br>\n",
    "Este método se puede desarrollar mediante filas o columnas.\n",
    "## Fórmula de la regla de Laplace\n",
    "Dada una matriz $Z_{mxn}$ cualquiera de dimensiones $mxn$, donde $m=n$, se expande respecto a la $i-ésima$ fila, entonces:\n",
    "$$|Z_{mxn}| = z_{i1}* D_{i1} + . . . + z_{in} * D_{in}$$\n",
    "* $D_{ij}$ es el determinante obtenido de eliminar la $i-esima$ fila y la $i-esima$ columna de $Z_{mxn}$.\n",
    "  $$D_{ij}= aM_{ij} = (-1)^{i+j}*M_{ij}$$\n",
    "* $M{ij} es el $i,j-esimo$ *menor*. El determinante $D_{ij} en función de $M_{ij}$ se denomina el $i,j-esimo$ cofactor de la matriz $Z_{mxn}$\n",
    "* $a$ es el ajuste de signo de la posición.\n",
    "$$a =(-1)^{+j}$$\n"
   ]
  },
  {
   "cell_type": "code",
   "execution_count": 1,
   "id": "d8c1eff9-537a-4a95-aecf-1b82ae017c21",
   "metadata": {},
   "outputs": [
    {
     "name": "stdout",
     "output_type": "stream",
     "text": [
      "Requirement already satisfied: numpy in c:\\users\\admin-itq\\anaconda3\\envs\\ml_env\\lib\\site-packages (2.0.2)\n"
     ]
    }
   ],
   "source": [
    "!pip install numpy"
   ]
  },
  {
   "cell_type": "code",
   "execution_count": 2,
   "id": "a4b1c106-09b8-4db6-b8fb-cbefd4608606",
   "metadata": {},
   "outputs": [],
   "source": [
    "import numpy as np\n",
    "#creamos una función donde se va a calcular el determinante de una función la función recive un parámetro que viene Hacer la matriz cuadrada\n",
    "def determinante_recursivo(M):\n",
    "    \"\"\"\n",
    "    Calculamos el detrminante de una matriz cuadrada usando la definición recursiva de Laplace\n",
    "\n",
    "    Parametros: M (matriz): La matriz cuadrada nxn\n",
    "\n",
    "    Valores que retorna mi función \n",
    "\n",
    "    Parámetros de tipo float que es el determinante de la matriz\n",
    "    \"\"\"\n",
    "    #creamos una matriz NumPy\n",
    "    M=np.array(M, dtype=float)\n",
    "    #CReamos una variable para guardar el tamaño de la matriz\n",
    "    n=M.shape[0]\n",
    "\n",
    "    #Creamos una condicional para verificar si el tamaño de la matriz es 1x1\n",
    "    if n == 1:\n",
    "        return M[0, 0]\n",
    "    # Si en el caso que la matriz sea 2 x 2\n",
    "    if n == 2:\n",
    "        return M[0,0]*M[1][1] - M[0,1]*M[1,0]\n",
    "    #Expansión por cofactores en la primera fila\n",
    "    #creamos una variable donde se va a guardar el determinante y lo inicializamos con 0\n",
    "    det = 0\n",
    "    for j in range(n):\n",
    "        #Se crea una submatriz en la cual se elimina la fila 0 y la columna j\n",
    "        sub_matriz = np.delete(np.delete(M, 0, axis=0), j, axis= 1)\n",
    "\n",
    "        #COfactor \n",
    "        cofactor = ((-1) ** j) * M[0,j]* determinante_recursivo(sub_matriz)\n",
    "        det += cofactor\n",
    "    #retornamos el determinante    \n",
    "    return det\n",
    "\n",
    "\n",
    "\n",
    "    \n",
    "    "
   ]
  },
  {
   "cell_type": "code",
   "execution_count": 3,
   "id": "ef25a2f5-7f27-44fe-bf9a-ac668a941e97",
   "metadata": {},
   "outputs": [],
   "source": [
    "##Creamos una función para leer la matriz por teclado \n",
    "\n",
    "def leer_matriz():\n",
    "    n= int(input(\"Ingrese el tamaño de la matriz (n x n)\"))\n",
    "    print(f\"Ingrese los {n}x{n} elementos de la matriz fila por fila separados por espacios:\")\n",
    "    matriz = []\n",
    "    for i in range(n):\n",
    "        fila = list(map(float, input(f\"Fila {i+1}: \").split()))\n",
    "        #Si en caso que la longitud de la fila sea distinto de n mandamos un mensaje de error \n",
    "        #caso contario añadimos los valores a la matriz\n",
    "        if len(fila) != n:\n",
    "            raise ValuError(f\"La fila debe tener exactamente {n} elementos\")\n",
    "        matriz.append(fila)\n",
    "    return np.array(matriz)"
   ]
  },
  {
   "cell_type": "markdown",
   "id": "d5966904-6a5c-4c99-a050-12ec923b2204",
   "metadata": {},
   "source": [
    "### INgresamos la matriz por teclado \n",
    "A= leer_matriz()\n",
    "print(\"La matriz ingresa es : \")\n",
    "print(np.array(A))\n",
    "#Calculamos el determinante \n",
    "det = determinante_recursivo(A)\n",
    "print(\"El determinate mediante la regla de Laplace es: \")\n",
    "print(det)\n",
    "#Verificamos el determinante mediante numpy\n",
    "print(\"El determinate mediante NumPy es : \")\n",
    "print(np.linalg.det(A))"
   ]
  },
  {
   "cell_type": "markdown",
   "id": "051f85ab-2c01-44d5-bdb8-ce7cd01362e8",
   "metadata": {},
   "source": [
    "**b)** Si $A$ es una matriz cuadrada $nxn$ y triangular superior o inferior, es decir, con entradas nulas por debajo o por encima de la diagonal, respectivamente, **¿existe alguna forma de calcular de forma directa y sencilla su determinante?** Justifique la respuesta.<br><br>\n",
    "**Respuesta**<br><br>\n",
    "Si, existe una forma directa y sencilla de calcular el determinate la explicación es la siguiente, teniendo una matriz cuadrada $A \\in \\mathbb{R}^{nxn}$ que es triangular, sea superior o inferior, calcular su determinante resulta más sencillo que aplicar la definición recursiva de Laplace o la eliminación gaussiana.<br>\n",
    "La razón es que, por definición, una matriz triangular solo tiene valores distintos de ceros en la diagonal y en una parte de la matriz ya sea por encima o por debajo de la misma. Esto implica que todos los menores de orden superior que se generan al expandir el determinante contienen filas o columnas con ceros, lo que simplifica enormemente la expresión.<br>\n",
    "De hecho, existe una propiedad fundamental.\n",
    "$$det(A)= \\prod_{i=1}^na_{ii}$$\n",
    "Es decir, el determinante de una matriz tringular es simplemente el producto de los elementos de su diagonal principal.<br>\n",
    "Esto se cumple porque al aplicar la eliminación gaussiana, la matriz ya está en forma escalonada, y no se necesita hacer operaciones adicionales que modifiquen el determinante.<br>\n",
    "\n",
    "**Ejemplo**\n",
    "$$A=\\begin{bmatrix}\n",
    "3 & 4 & 5 \\\\\n",
    "0 & 3 & 2 \\\\\n",
    "0 & 0 & 1\n",
    "\\end{bmatrix}\n",
    "$$\n",
    "Como podemos ver en el ejemplo al ser tringula superior, para calcular su determinante se lo hace directamente.<br>\n",
    "$$det(A) = 3*3*1 = 9$$"
   ]
  },
  {
   "cell_type": "markdown",
   "id": "66380d13-7c82-4858-8c96-f0ca12572e53",
   "metadata": {},
   "source": [
    "**c)** Determínese de forma justificada cómo alteran el determinante de una matriz $nxn$  las dos opereaciones siguientes:<br>\n",
    "* Intercambiar una fila (o columna) por fila (o columna).\n",
    "* Sumar a una fila (o columna) otra fila (o columna) multiplicada por un escalar $a$\n",
    "<br>\n",
    "\n",
    "**Respuesta**<br>\n",
    "  Cuando trabajamos con el determinante de una matriz $A \\in \\mathbb{R}^{nxn}$, es fundamental comprender cómo se ve afectado por las operaciones elementales de filas o columnas.<br>\n",
    "  Estos nos permite entender tanto los métodos de cálculo, como la eliminación gaussiana y también las propiedades estructurales del determinante.<br>\n",
    "**1. Intercambiar una fila o columna por otra.** Si permutamos dos filas o dos columnas de una matriz, el determinante cambia de signo.\n",
    "  $$\\det(A') = -\\det(A)$$\n",
    "donde $A'$ es la matriz obtenida al intercmabiar las dos filas o columnas.<br>\n",
    "El determinante puede interpretarse como un volumen orientado en $\\mathbb{R}^n$. Al intercambiar dos filas, cambiamos la orientación del sistema de vectores que genera ese volumen, lo que implica que el determinante conserva su magnitud pero cambia su signo.<br>\n",
    "**2. Sumar a un afila o columna otra fila (o columna) multiplicada por un escalar $\\alpha$**<br>\n",
    "Si reemplazamosuna fila $F_i$ por $F_i + \\alpha F_j$, con $i \\neq j$, el determinante no cambia.\n",
    "$$det(A')=det(A)$$\n",
    "El determinante es una función multilineal respecto a las filas o columnas. Esto significa que es lineal en cada fila manteniendo las demás fijas. Al añadir a una fila un múltiplo de otra, no se altera el volumen definido por las filas de la matriz, ya que no se está generando una nueva dirección independiente, sino una combinación de las existentes.\n"
   ]
  },
  {
   "cell_type": "code",
   "execution_count": 5,
   "id": "3dcd1c2d-43b2-4b73-a00e-71a2a9da9f4c",
   "metadata": {},
   "outputs": [
    {
     "name": "stdout",
     "output_type": "stream",
     "text": [
      "Matriz original A: \n",
      "[[1. 2.]\n",
      " [3. 4.]]\n"
     ]
    }
   ],
   "source": [
    "#ejercicio \n",
    "#definicmos una matriz de ejemplo\n",
    "A=np.array([[1,2],[3,4]], dtype=float)\n",
    "print (\"Matriz original A: \")\n",
    "print(A)"
   ]
  },
  {
   "cell_type": "code",
   "execution_count": 6,
   "id": "af64a908-ee2a-47c8-b0b8-6af19d073d6c",
   "metadata": {},
   "outputs": [
    {
     "name": "stdout",
     "output_type": "stream",
     "text": [
      "El determinante de la matriz A =  -2.0000000000000004\n"
     ]
    }
   ],
   "source": [
    "print(\"El determinante de la matriz A = \", np.linalg.det(A))"
   ]
  },
  {
   "cell_type": "code",
   "execution_count": 7,
   "id": "ad3dc8c5-08c4-4ae1-9a47-53d5d1640249",
   "metadata": {},
   "outputs": [
    {
     "name": "stdout",
     "output_type": "stream",
     "text": [
      "\n",
      "MAtriz después de intercmabiar F1<->F2:\n",
      "[[3. 4.]\n",
      " [1. 2.]]\n",
      "el determinante de la matriz intercambiada es det(A_inter)= 2.0000000000000004\n"
     ]
    }
   ],
   "source": [
    "#Intercambiamos dos filas \n",
    "A_inter= A.copy()\n",
    "#Intercambiamos la fila 1 con la fila 2\n",
    "A_inter[[0,1]]=A_inter[[1,0]] \n",
    "\n",
    "print(\"\\nMAtriz después de intercmabiar F1<->F2:\")\n",
    "print(A_inter)\n",
    "print(\"el determinante de la matriz intercambiada es det(A_inter)=\", np.linalg.det(A_inter))"
   ]
  },
  {
   "cell_type": "markdown",
   "id": "08daa558-1c93-42e7-96c9-d9d0f45cd84b",
   "metadata": {},
   "source": [
    "Como se observa al cambiar als filas el signo del determinante cambia"
   ]
  },
  {
   "cell_type": "code",
   "execution_count": 8,
   "id": "070e77c8-504b-42a9-8d64-206dc9fe734b",
   "metadata": {},
   "outputs": [
    {
     "name": "stdout",
     "output_type": "stream",
     "text": [
      "\n",
      "MAtriz después de F2->f2-)*F1\n",
      "[[ 1.  2.]\n",
      " [ 0. -2.]]\n",
      "det(A_sum) -2.0\n"
     ]
    }
   ],
   "source": [
    "#2 Sumar a una fila un multiplo de otra\n",
    "A_sum = A.copy()\n",
    "#\n",
    "A_sum[1]=A_sum[1]-3*A_sum[0]\n",
    "#imprimimos el resultado \n",
    "print(\"\\nMAtriz después de F2->f2-)*F1\")\n",
    "print(A_sum)\n",
    "print(\"det(A_sum)\", np.linalg.det(A_sum))\n"
   ]
  },
  {
   "cell_type": "markdown",
   "id": "9d49bcc8-c8df-45e5-b686-5b1a393460d7",
   "metadata": {},
   "source": [
    "**d)** Investiga sobre el método de eliminación de Gauss con pivoteo parcial e implemento para escalonar una matriz ( es decir, convertirla en una matriz triangular inferior) a partir de las operaciones elementales descritas en el apartado anterior.<br>\n",
    "**Respuesta**\n",
    "El método de eliminación de Gauss es una técnica fundamental para resolver sistemas de ecuaciones lineales, calcular rangos y preparar matrices para la factorización LU. Su objetivo es transformar una matriz $A$ en una matriz triangular superior mediante operaciones elementales. <br>\n",
    "Cuando incluimos pivoteo parcial, aumentamos la estabilidad numérica, evitando divisiones por valores muy pequeños que pueden amplificar errores. El pivoteo consiste en buscar en cada columna el elemento de mayor valor absoluto y colocar esa fila en la posición de pivote mediante un intercambio de filas.<br>\n",
    "COn pivoteo parcial por filas elegimos, en cada columna $k$, el elemento de máximo valor absoluto entre las filas $k,...,n-1$ y permuto filas para colocarlo en la posición $(k,k)$. Esto mejora la estabilidad numperica y evita divisiones por números muy pequeños.\n",
    "* La versión estándar por filas genera una triangular superior.\n",
    "* Si lo que queremos es triangular inferior,podemos:\n",
    "  1. Hacer el mismo algoritmo sobre $A^{T}$, lo que equivale a usar operaciones elementales de columnas en $A$, y luego trasponerde vuelta.\n",
    "  2. o implementar directamente una versión de eliminación por columnas intercambiando columnas y sumando mmpultiplos de columnas, lo cual es conceptualmente equivalente al punto 1\n",
    "\n",
    "**Operaciones elementales utilizadas**<br>\n",
    "**1. Intercambiar una fila por otra**\n",
    "<br>\n",
    "$$F_i<->F_J$$\n",
    "Cambia el signo del determinante, pero en Gauss es necesario para evitar divisiones por ceros o valores muy pequeños.<br>\n",
    "**2. Sumar a una fila un múltiplo de otra**\n",
    "$$F_i->F_i-\\alpha F_k$$\n",
    "donde $\\alpha = \\frac{\\alpha_{ik}}{\\alpha_{kk}}$ <br>\n",
    "elimina la entrada $a_{ik}$ de la matriz, escalonando la matriz hacia triangular superior.\n"
   ]
  },
  {
   "cell_type": "code",
   "execution_count": 9,
   "id": "6c9ddc20-66aa-45da-985f-deeecd71960f",
   "metadata": {},
   "outputs": [],
   "source": [
    "\n",
    "def gauss_pivoteo_parcial_superior(A):\n",
    "    \"\"\"\n",
    "    Escalona A a TRIANGULAR SUPERIOR usando eliminación de Gauss con pivoteo parcial por filas.\n",
    "    Solo usa operaciones elementales de FILAS: intercambio y suma de múltiplos.\n",
    "\n",
    "    Parámetros:\n",
    "        A (array-like): matriz n x n\n",
    "\n",
    "    Retorna:\n",
    "        U (ndarray): matriz triangular superior equivalente por filas a A\n",
    "        perm_filas (list[tuple]): lista de permutas de filas realizadas (pares (i,j))\n",
    "    \"\"\"\n",
    "    A = np.array(A, dtype=float, copy=True)\n",
    "    n = A.shape[0]\n",
    "    perm_filas = []\n",
    "\n",
    "    for k in range(n-1):\n",
    "        # Pivoteo parcial por filas: elegir fila con mayor |A[i,k]|, i>=k\n",
    "        piv = k + np.argmax(np.abs(A[k:, k]))\n",
    "        if np.isclose(A[piv, k], 0.0):\n",
    "            continue  # columna k ya es (casi) nula; seguimos\n",
    "\n",
    "        if piv != k:\n",
    "            A[[k, piv]] = A[[piv, k]]\n",
    "            perm_filas.append((k, piv))\n",
    "\n",
    "        # Eliminación por debajo del pivote (conserva triangular superior)\n",
    "        for i in range(k+1, n):\n",
    "            if not np.isclose(A[k, k], 0.0):\n",
    "                factor = A[i, k] / A[k, k]\n",
    "                A[i, k:] -= factor * A[k, k:]\n",
    "\n",
    "    return A, perm_filas\n",
    "\n",
    "\n",
    "def gauss_pivoteo_parcial_inferior(A):\n",
    "    \"\"\"\n",
    "    Escalona A a TRIANGULAR INFERIOR aplicando eliminación de Gauss con pivoteo parcial\n",
    "    sobre A^T (equivale a usar operaciones elementales de COLUMNAS en A).\n",
    "    \n",
    "    Estrategia:\n",
    "      1) Hacemos gauss_pivoteo_parcial_superior(A^T) por filas -> U^T es triangular superior.\n",
    "      2) Transponemos el resultado para regresar al espacio de A -> obtenemos L triangular inferior.\n",
    "    \n",
    "    Parámetros:\n",
    "        A (array-like): matriz n x n\n",
    "    \n",
    "    Retorna:\n",
    "        L (ndarray): matriz triangular inferior (equivalente por columnas a A)\n",
    "        perm_columnas (list[tuple]): permutas de columnas realizadas (pares (j1,j2))\n",
    "                                     (inducidas por las permutas de filas en A^T)\n",
    "    \"\"\"\n",
    "    AT = np.array(A, dtype=float, copy=True).T\n",
    "    U_t, perm_filas_en_AT = gauss_pivoteo_parcial_superior(AT)\n",
    "    # Permutas de filas en AT <=> permutas de columnas en A\n",
    "    perm_columnas = perm_filas_en_AT[:]  # mismas parejas, pero interpretadas como columnas\n",
    "    L = U_t.T\n",
    "    return L, perm_columnas\n",
    "\n",
    "\n"
   ]
  },
  {
   "cell_type": "code",
   "execution_count": 10,
   "id": "e99f9ab6-50ea-48bb-a653-fd1052892d29",
   "metadata": {},
   "outputs": [
    {
     "name": "stdout",
     "output_type": "stream",
     "text": [
      "A =\n",
      " [[-1.  4.  1. -2.]\n",
      " [-2.  2.  2.  4.]\n",
      " [ 2.  3.  4.  5.]\n",
      " [ 5.  3.  2.  1.]]\n",
      "\n",
      "U (triangular superior) =\n",
      " [[ 5.00000000e+00  3.00000000e+00  2.00000000e+00  1.00000000e+00]\n",
      " [ 0.00000000e+00  4.60000000e+00  1.40000000e+00 -1.80000000e+00]\n",
      " [ 0.00000000e+00 -2.22044605e-16  2.65217391e+00  5.30434783e+00]\n",
      " [ 0.00000000e+00  0.00000000e+00  2.22044605e-16  2.00000000e+00]]\n",
      "¿Es triangular superior? -> True\n",
      "Permutas de FILAS (por filas): [(0, np.int64(3)), (1, np.int64(3))]\n",
      "\n",
      "L (triangular inferior) =\n",
      " [[ 4.          0.          0.          0.        ]\n",
      " [ 2.          5.          0.          0.        ]\n",
      " [ 3.          6.5         4.7         0.        ]\n",
      " [ 3.          2.5         6.5        -1.29787234]]\n",
      "¿Es triangular inferior? -> True\n",
      "Permutas de COLUMNAS (equivalentes): [(0, np.int64(1)), (1, np.int64(3)), (2, np.int64(3))]\n"
     ]
    }
   ],
   "source": [
    "# implementación \n",
    "if __name__ == \"__main__\":\n",
    "    np.random.seed(7)\n",
    "    A = np.random.randint(-5, 6, size=(4,4)).astype(float)\n",
    "\n",
    "    print(\"A =\\n\", A)\n",
    "\n",
    "    # Triangular superior (clásico, por filas)\n",
    "    U, perm_f = gauss_pivoteo_parcial_superior(A)\n",
    "    print(\"\\nU (triangular superior) =\\n\", U)\n",
    "    print(\"¿Es triangular superior? ->\", np.allclose(np.tril(U, k=-1), 0.0))\n",
    "    print(\"Permutas de FILAS (por filas):\", perm_f)\n",
    "\n",
    "    # Triangular inferior (pedido, equivalente por columnas)\n",
    "    L, perm_c = gauss_pivoteo_parcial_inferior(A)\n",
    "    print(\"\\nL (triangular inferior) =\\n\", L)\n",
    "    print(\"¿Es triangular inferior? ->\", np.allclose(np.triu(L, k=1), 0.0))\n",
    "    print(\"Permutas de COLUMNAS (equivalentes):\", perm_c)"
   ]
  },
  {
   "cell_type": "markdown",
   "id": "e5d75a5d-d122-4d5a-9392-1edb4e411b28",
   "metadata": {},
   "source": [
    "* La complejidad del algoritmo es: $O(n^3)$\n",
    "* El pivoteo parcial mitiga errores por redondeo al evitar dividir por pivotes muy pequeños.\n",
    "* El producto de la diagonal de la triangular superior o inferior, ajustado por el signo de las permutas por cada intercambio cambia el signo, te da $det(A)$.\n",
    "* Se traspone la matriz porque convierte operaciones de filas en operaciones de columnas y viceversa de esa forma obtenemos el escalonamiento inferior son reescribir todo el algoritmo desde cero.\n",
    "\n"
   ]
  },
  {
   "cell_type": "markdown",
   "id": "b9d1bce8-88bb-4eb8-9b64-3ff954af4e21",
   "metadata": {},
   "source": [
    "**e)** ¿Cómo se podría calcular el determinante de una matriz haciendo beneficio de la estrategia anterior y del efecto de aplicar las operaciones elementales pertinente?<br>\n",
    "Implementa una nueva función, determinante_gauss, que calcule el determinante de una matriz utilizando eliminación gaussiana.\n",
    "<br>\n",
    "**Respuesta**<br>\n",
    "Para calcular el determinante de $A \\in \\mathbb{R}^{nxn}$ aprovechamos los efectos de las operaciones elementales sobre $det():$\n",
    "1. Intercambiar dos filas: multiplicamos el determinante por -1\n",
    "$$F_i \\leftrightarrow F_j \\quad \\Rightarrow \\quad det(nueva) = -det(anterior)$$\n",
    "2. Sumar a una fila un múltiplo de otra: no cambia el determinante\n",
    "$$F_i \\leftarrow F_i + \\alpha F_j \\quad \\Rightarrow det(nueva) = det(anterior)$$\n",
    "La eliminación de Gauss con pivoteo parcial transforma $A$ en una matriz triangular superior $U$ aplicando solo esas dos operaciones. Al final:\n",
    "$$det(A)= (signo por la permutación) * \\prod_{i=1}^nU_{ii}$$\n",
    "* Cada intercambio de filas, invierte el signo, se multiplica por -1.<br>\n",
    "* Las restas de múltiplos no alteran el determinante.\n",
    "* El producto de la diagonal de $U$ es $det(U)$, y por equivalencia de operaciones, $det(A)= \\pm det(U)$.<br>\n",
    "La complejidad es $O(n^3)$ y es mucho más eficiente y estable que la expansión por cofactores $(O(n!))$\n"
   ]
  },
  {
   "cell_type": "code",
   "execution_count": 11,
   "id": "42eaf95f-f15d-4572-a294-3cd0c43de549",
   "metadata": {},
   "outputs": [],
   "source": [
    "def determinante_gauss(A, tol=1e-15):\n",
    "    \"\"\"\n",
    "    Calcula det(A) mediante eliminación gaussiana con pivoteo parcial (por filas),\n",
    "    usando solo:\n",
    "      - intercambios de filas (cambian el signo de det),\n",
    "      - sumas de múltiplos de filas (no cambian det).\n",
    "    \n",
    "    Parámetros:\n",
    "        A : array-like (n x n)\n",
    "        tol : float, tolerancia para detectar pivote ~ 0 (singularidad numérica)\n",
    "    \n",
    "    Retorna:\n",
    "        detA : float\n",
    "    \"\"\"\n",
    "    A = np.array(A, dtype=float, copy=True)\n",
    "    n = A.shape[0]\n",
    "    signo = 1.0  # acumulador del signo debido a permutas\n",
    "\n",
    "    for k in range(n-1):\n",
    "        # Pivoteo parcial: fila con mayor |A[i,k]| para i >= k\n",
    "        piv = k + np.argmax(np.abs(A[k:, k]))\n",
    "        pivote = A[piv, k]\n",
    "\n",
    "        # Si el mejor pivote es ~0 -> matriz (casi) singular\n",
    "        if abs(pivote) < tol:\n",
    "            return 0.0\n",
    "\n",
    "        # Si hay que permutar filas\n",
    "        if piv != k:\n",
    "            A[[k, piv]] = A[[piv, k]]\n",
    "            signo *= -1.0\n",
    "\n",
    "        # Eliminación por debajo del pivote (sin escalar filas)\n",
    "        for i in range(k+1, n):\n",
    "            if abs(A[k, k]) < tol:\n",
    "                return 0.0\n",
    "            factor = A[i, k] / A[k, k]\n",
    "            # F_i <- F_i - factor * F_k  (no cambia el determinante)\n",
    "            A[i, k:] -= factor * A[k, k:]\n",
    "\n",
    "    # Producto de la diagonal (triangular superior)\n",
    "    diag_prod = float(np.prod(np.diag(A)))\n",
    "\n",
    "    # Si el último pivote fue ~0, producto será ~0\n",
    "    if abs(diag_prod) < tol:\n",
    "        return 0.0\n",
    "\n",
    "    return signo * diag_prod"
   ]
  },
  {
   "cell_type": "code",
   "execution_count": 12,
   "id": "ffc80885-f031-4792-9168-f2e6bc20ab70",
   "metadata": {},
   "outputs": [],
   "source": [
    "# función para leer la matriz desde el teclado \n",
    "def leer_matriz():\n",
    "    \"\"\"leemos una matriz cuadrada desde del teclado \n",
    "    Retorna un np.ndarray(float).\n",
    "    \"\"\"\n",
    "    n= int(input(\"Ingrese el tamaño de la matriz (nxn): \"))\n",
    "    print(f\"Ingrese los {n}x{n} elementos de la matriz, fila por fila, separados por espacios:\")\n",
    "    #Creamos una matiz vacia\n",
    "    matriz=[]\n",
    "    #Iteramos para ingresar datos a la matriz\n",
    "    for i in range(n):\n",
    "        fila = list(map(float, input(f\"Fila {i+1}: \").split()))\n",
    "        #Verifica que las fila sean igual al número de elementos ingresados\n",
    "        if len(fila)!=n:\n",
    "            raise ValueError(f\"La fila debe tener exactamente {n} elementos\")\n",
    "        matriz.append(fila)\n",
    "    return np.array(matriz, dtype=float)"
   ]
  },
  {
   "cell_type": "code",
   "execution_count": 13,
   "id": "b5446393-3cde-4c29-84e2-03d26f566851",
   "metadata": {},
   "outputs": [
    {
     "name": "stdin",
     "output_type": "stream",
     "text": [
      "Ingrese el tamaño de la matriz (nxn):  3\n"
     ]
    },
    {
     "name": "stdout",
     "output_type": "stream",
     "text": [
      "Ingrese los 3x3 elementos de la matriz, fila por fila, separados por espacios:\n"
     ]
    },
    {
     "name": "stdin",
     "output_type": "stream",
     "text": [
      "Fila 1:  1 2 3\n",
      "Fila 2:   1 2 3\n",
      "Fila 3:  1 2 3\n"
     ]
    },
    {
     "name": "stdout",
     "output_type": "stream",
     "text": [
      "\n",
      "Matriz ingresada\n",
      "[[1. 2. 3.]\n",
      " [1. 2. 3.]\n",
      " [1. 2. 3.]]\n",
      "\n",
      "Determinante (Gauss con pivoteo parcial): 0.000000\n",
      "\n",
      "Determinante (NumPy): 0.000000\n",
      "Error relativo:0.00e+00\n"
     ]
    }
   ],
   "source": [
    "# Programa principal \n",
    "A = leer_matriz()\n",
    "#Imprimimos la matriz ingresada\n",
    "print(\"\\nMatriz ingresada\")\n",
    "print(A)\n",
    "\n",
    "det_gauss= determinante_gauss(A)\n",
    "det_numpy = np.linalg.det(A)\n",
    "\n",
    "print(f\"\\nDeterminante (Gauss con pivoteo parcial): {det_gauss:.6f}\")\n",
    "print(f\"\\nDeterminante (NumPy): {det_numpy:.6f}\")\n",
    "#Calculamos el error relativo entre las dos respuestas \n",
    "print(f\"Error relativo:{abs(det_gauss-det_numpy)/max(1.0, abs(det_numpy)):.2e}\")"
   ]
  },
  {
   "cell_type": "markdown",
   "id": "71822ecf-b65f-46cd-ad35-ba7b99dc80e3",
   "metadata": {},
   "source": [
    "**f)** Obtén la complejidad computacional asociada al cálculo del determinante con la definición ecursiva y con el método de eliminación de Gauss con pivoteo parcial.<br>\n",
    "**Respuesta**<br>\n",
    "**1. Definición recursiva (expansión de Laplace)**<br>\n",
    "Sabiendo que para el cálculo del $det(A)$ se obtine expandiendo por una fila/columna\n",
    "$$det(A) = \\sum_{j=1}^n(-1)^{i+j}a_{ij}det(M_{ij})$$<br>\n",
    "donde cada $M_{ij}$ es un menor de tamaño $(n-1)x(n-1)$.<br>\n",
    "**Recurrencia de coste:** <br>\n",
    "Para una matriz $ n x n$, se calculan $n$ determinantes de tamaño $n-1$:\n",
    "$$T(n) =nT(n-1)+C(n),$$<br>\n",
    "donde $C(n)$ es el coste  de formar menores y sumar (polimonial, típicamente $O(n^2))$. El término dominante es la parte recursiva.<br>\n",
    "*Resolución (orden):**<br>\n",
    "Desplegando la recurrencia:<br>\n",
    "$$T(n)=n(n-1)T(n-2) \\approx n!T(1) \\Rightarrow T(n) = \\Theta(n!)$$.\n",
    "**Conclusión:**<br>\n",
    "1. Complejidad super-exponencial: $\\Theta(n!)$\n",
    "2. Útil solo para $n$ pequeños, es impracticable para $n$ moderados o grandes.<br>\n",
    "**2. Eliminación de Gauss con pivote parcial**<br>\n",
    "Mediante operaciones elementales de filas, sumas de múltiplos, intercambios con pivoteo parcial, entonces llevamos $A$ a triangular superior $U$, luego<br>\n",
    "$$det(A) = (signo por permutas) \\prod_{i=1}^nU_{ii}$$\n",
    "**Coste por capas**<br>\n",
    "* Eliminación columna a columna: para la columna $k$ se anula $(n-k-1)$ entradas, y cada anulación actualiza $\\sim(n-k)$ elementos de la fila.\n",
    "* Sumando sobre $k=0,...,n-2$, el número total de operaciones aritméticas es:\n",
    "$$\\sum_{k=0}^{n-2}(n-k-1)(n-k) = \\frac{2}{3}n^3+O(n^2)$$\n",
    "* Pivoteo parcial añade comparaciones $O(n^2)$, que no cambian el orden.\n",
    "**Conclusión(flops):**\n",
    "* Para este punto la complejidad cúbica: $\\Theta(n^3)$\n",
    "* Más precisamente: $\\approx \\frac{2}{3}n^3+O(n^2)$ operaciones en coma flotante.\n",
    "* Estable y práctica en cómputo científico.\n",
    "\n",
    "\n",
    "\n"
   ]
  },
  {
   "cell_type": "markdown",
   "id": "4f4cd695-7f34-4ba0-9535-cd794b5d240d",
   "metadata": {},
   "source": [
    "**g)** Utilizando numpy.random.rand, genera matrices cuadradas aleatorias de la forma $A_n \\in \\mathbb{R}^{nxn}$, para $2\\leq n \\leq 10$, y confecciona una tabla comparativa del tiempo de ejecución asociado a cada una de las variantes siguientes, interpretando los resultados:\n",
    "* Utilizando determinante_recursivo.\n",
    "* Emplenado determinant_gauss.\n",
    "* Haciendo el uso de la función preprogramada numpy.linalg.det"
   ]
  },
  {
   "cell_type": "code",
   "execution_count": 33,
   "id": "0c993f5b-2de7-49d9-b9bf-c341a2a1ed21",
   "metadata": {},
   "outputs": [],
   "source": [
    "import numpy as np\n",
    "import pandas as pd\n",
    "import time\n",
    "import matplotlib.pyplot as plt\n",
    "#determinante por definición recursiva Laplace\n",
    "# Complejidad ~ O(n!) -> solo útil pedagógicamente para n pequeño\n",
    "def determinante_recursivo(A):\n",
    "    A=np.array(A, dtype=float)\n",
    "    n= A.shape[0]\n",
    "    #casos base\n",
    "    if n==1:\n",
    "        return A[0, 0]\n",
    "    if n == 2:\n",
    "        return A[0, 0] * A[1, 1] - A[0, 1]*A[1,0]\n",
    "    #Expansión por cofactores en la primera fila\n",
    "    det = 0.0\n",
    "    for j in range(n):\n",
    "        sub= np.delete(np.delete(A, 0, axis=0), j, axis=1)\n",
    "        det += ((-1)**j)* A[0, j] * determinante_recursivo(sub)\n",
    "    return det"
   ]
  },
  {
   "cell_type": "code",
   "execution_count": 34,
   "id": "0a8e6409-77b4-4849-99d1-71c541a1a475",
   "metadata": {},
   "outputs": [],
   "source": [
    "#Determinante por eliminación de Gauss con pivoteo parcial\n",
    "# -Intercambio de filas: cambia el signo del determinante\n",
    "# - Restar multiplos de filas: No cambia el determinante\n",
    "# Complejidad ~ O(n^3)\n",
    "#-----------------------------------------------------------------------------------------------\n",
    "def determinante_gauss(A, tol=1e-15):\n",
    "    A=np.array(A, dtype=float, copy=True)\n",
    "    n= A.shape[0]\n",
    "    #Acumula el (-1) por permutas de filas\n",
    "    signo = 1.0\n",
    "    for k in range(n-1):\n",
    "        #Pivoteo parcial: mejor fila (máximo |A[i,k]|, i>=k)\n",
    "        piv=k +np.argmax(np.abs(A[k:, k]))\n",
    "        if abs(A[piv,k]) <tol:\n",
    "            #matriz singular numéricamente\n",
    "            return 0.0\n",
    "        #Permutar si es necesario\n",
    "        if piv != k:\n",
    "            A[[k, piv]] = A[[piv, k]]\n",
    "            signo *= -1.0\n",
    "        #Eliminación hacia abajo (F_i <- F_i -factor *F_k)\n",
    "        for i in range(k+1,n):\n",
    "            #seguridad numérica\n",
    "            if abs(A[k, k]) < tol:\n",
    "                return 0.0\n",
    "            factor = A[i, k]/A[k,k]\n",
    "            A[i,k:] -= factor * A[k, k:]\n",
    "        #Producto de la diagonal (triangular superior)\n",
    "        diag_prod = float(np.prod(np.diag(A)))\n",
    "        #Creamos una condicional para verificar si el producto de la diagonal < tol retornamos 0\n",
    "        if abs(diag_prod) < tol:\n",
    "            return 0.0\n",
    "        return signo * diag_prod\n",
    "            \n",
    "            \n",
    "            "
   ]
  },
  {
   "cell_type": "code",
   "execution_count": 35,
   "id": "d1d89922-b041-4491-930f-4d1bb2c6048a",
   "metadata": {},
   "outputs": [],
   "source": [
    "#Implementamos la utilidad del código\n",
    "#Medimos el tiempo promedio de una función sobre A\n",
    "def medir_tiempo(func, A, repeticiones=1):\n",
    "    t_acum = 0.0\n",
    "    val=None\n",
    "    for _ in range(repeticiones):\n",
    "        t0=time.perf_counter()\n",
    "        val = func(A)\n",
    "        t1 = time.perf_counter()\n",
    "        t_acum += (t1-t0)\n",
    "    return t_acum/repeticiones, val"
   ]
  },
  {
   "cell_type": "code",
   "execution_count": 36,
   "id": "33e82291-f28b-45ae-9de0-98e6d0f1f312",
   "metadata": {},
   "outputs": [
    {
     "name": "stdout",
     "output_type": "stream",
     "text": [
      "\n",
      "=== Comparativa de tiempos y exactitud (2 ≤ n ≤ 10) ===\n",
      " n  tiempo_recursivo_s  tiempo_gauss_s  tiempo_numpy_s  det_recursivo     det_gauss  det_numpy  err_rel_rec_vs_np  err_rel_gauss_vs_np\n",
      " 2            0.000042        0.000362        0.000021      -0.767646 -7.676463e-01  -0.767646       1.110223e-16         1.110223e-16\n",
      " 3            0.000132        0.000102        0.000019      -0.173988 -1.728317e-01  -0.173988       0.000000e+00         1.156755e-03\n",
      " 4            0.000432        0.000105        0.000014      -0.000714 -1.865601e-02  -0.000714       7.589415e-19         1.794152e-02\n",
      " 5            0.001957        0.000127        0.000021      -0.023473  3.924371e-03  -0.023473       1.734723e-17         2.739720e-02\n",
      " 6            0.013336        0.000235        0.000042       0.036619  8.279027e-04   0.036619       6.938894e-18         3.579094e-02\n",
      " 7            0.094255        0.000192        0.000040       0.282640 -7.846579e-04   0.282640       5.551115e-17         2.834250e-01\n",
      " 8            0.589852        0.000090        0.000014      -0.036669  4.191899e-04  -0.036669       1.387779e-17         3.708826e-02\n",
      " 9                 NaN        0.000062        0.000009            NaN -1.445640e-06  -0.021589                NaN         2.158801e-02\n",
      "10                 NaN        0.000063        0.000009            NaN -9.655171e-09   0.022934                NaN         2.293391e-02\n"
     ]
    },
    {
     "data": {
      "image/png": "[encoded data removed]",
      "text/plain": [
       "<Figure size 640x480 with 1 Axes>"
      ]
     },
     "metadata": {},
     "output_type": "display_data"
    }
   ],
   "source": [
    "ns = list(range(2, 11))   # 2..10\n",
    "MAX_N_RECURSIVO = 8       # límite práctico para Laplace\n",
    "\n",
    "resultados = []\n",
    "np.random.seed(2025)      # reproducibilidad\n",
    "\n",
    "for n in ns:\n",
    "    A = np.random.rand(n, n)  # A_n ∈ R^{n×n} con U(0,1)\n",
    "\n",
    "    # (a) Determinante recursivo (si n ≤ 8)\n",
    "    if n <= MAX_N_RECURSIVO:\n",
    "        t_rec, det_rec = medir_tiempo(determinante_recursivo, A, repeticiones=1)\n",
    "    else:\n",
    "        t_rec, det_rec = (np.nan, np.nan)  # no se calcula por coste\n",
    "    # (b) Determinante por Gauss (promediamos para suavizar variabilidad)\n",
    "    t_gauss, det_gauss = medir_tiempo(determinante_gauss, A, repeticiones=3)\n",
    "    # (c) Determinante NumPy (referencia LAPACK)\n",
    "    t_np, det_np = medir_tiempo(np.linalg.det, A, repeticiones=5)\n",
    "\n",
    "    # Error relativo vs NumPy (para verificar consistencia)\n",
    "    def err_rel(x, y):\n",
    "        return float(abs(x - y) / max(1.0, abs(y))) if np.isfinite(x) and np.isfinite(y) else np.nan\n",
    "\n",
    "    resultados.append({\n",
    "        \"n\": n,\n",
    "        \"tiempo_recursivo_s\": t_rec,\n",
    "        \"tiempo_gauss_s\": t_gauss,\n",
    "        \"tiempo_numpy_s\": t_np,\n",
    "        \"det_recursivo\": det_rec,\n",
    "        \"det_gauss\": det_gauss,\n",
    "        \"det_numpy\": det_np,\n",
    "        \"err_rel_rec_vs_np\": err_rel(det_rec, det_np),\n",
    "        \"err_rel_gauss_vs_np\": err_rel(det_gauss, det_np),\n",
    "    })\n",
    "\n",
    "# Tabla comparativa\n",
    "df = pd.DataFrame(resultados)\n",
    "print(\"\\n=== Comparativa de tiempos y exactitud (2 ≤ n ≤ 10) ===\")\n",
    "print(df.to_string(index=False))\n",
    "\n",
    "# ------------------------------------------------------------\n",
    "# 5) Gráfica de tiempos (escala log) para visualizar diferencias\n",
    "#    Reglas: 1 gráfica, sin estilos ni colores específicos\n",
    "# ------------------------------------------------------------\n",
    "plt.figure()\n",
    "plt.plot(df[\"n\"], df[\"tiempo_recursivo_s\"], marker=\"o\", label=\"Recursivo (Laplace)\")\n",
    "plt.plot(df[\"n\"], df[\"tiempo_gauss_s\"], marker=\"o\", label=\"Gauss (pivoteo)\")\n",
    "plt.plot(df[\"n\"], df[\"tiempo_numpy_s\"], marker=\"o\", label=\"NumPy det\")\n",
    "plt.yscale(\"log\")\n",
    "plt.xlabel(\"Tamaño n\")\n",
    "plt.ylabel(\"Tiempo (s) [escala log]\")\n",
    "plt.title(\"Tiempos de cómputo vs tamaño de matriz (2 ≤ n ≤ 10)\")\n",
    "plt.legend()\n",
    "plt.show()"
   ]
  },
  {
   "cell_type": "code",
   "execution_count": 38,
   "id": "c0362938-d615-4c9a-bed5-6110de55c812",
   "metadata": {},
   "outputs": [
    {
     "name": "stdout",
     "output_type": "stream",
     "text": [
      "determinante (recursivo):  -1.0\n",
      "determinante (NumPy):      -1.0000000000000004\n"
     ]
    }
   ],
   "source": [
    "# Prueba\n",
    "A=[[2, -1, 3],\n",
    "   [1, 0, 2],\n",
    "   [4, 1, 8]]\n",
    "t, det_rec=medir_tiempo(determinante_recursivo, A)\n",
    "print(\"determinante (recursivo): \", det_rec)\n",
    "print(\"determinante (NumPy):     \", np.linalg.det(np.array(A)))"
   ]
  },
  {
   "cell_type": "markdown",
   "id": "c394458a-0362-4aa1-9bb9-66eb3731a33a",
   "metadata": {},
   "source": [
    "## Conclusión \n",
    "A partir del desarrollo del ejercicio, quedó claramente evidenciado el contraste entre la complejidad factorial del método recursivo de Laplace y la complejida cúbica de la eliminación de Gauss con pivoteo parcial. Mientras que la definición recursiva resulta útil para amtrices de tamaño reducido, el crecimiento explosivo del tiempo de ejecución la convierte en una alternativa impracticable para problemas reales.<br>\n",
    "Por el contario, la estrategia de Gauss con pivoteo parcial no solo garantiza un costo computacional mucho más manejable, sino que además incorpora mayor estabilidad numperica gracias al uso del pivoteo. Finalmente, la comparación con la función optimizada de Numpy **numpy.linalg.det** permitió constatar la validez de las implementaciones y resaltar cómo las librerías científicas actuales se apoyan en algoritmos eficientes basados en factorizaciones matriciales.<br>\n",
    "En el contexto de la Inteligencia Artificial y el Aprendizaje Automático, esta reflexión es fundamental, la elección del mpetodo no es meramente teórica, sino que determina la viabilidad del cálculo en escenarios donde se manipulan grandes volúmenes de datos. Por ello, resulta imprescindible optar por algoritmos con complejidad polinómica y evitar aquellos que, aunque correctos en lo conceptual, no escalan de forma adecuada."
   ]
  },
  {
   "cell_type": "code",
   "execution_count": null,
   "id": "ba884d21-1e9b-4756-b28c-893dab527fbb",
   "metadata": {},
   "outputs": [],
   "source": []
  }
 ],
 "metadata": {
  "kernelspec": {
   "display_name": "Python 3 (ipykernel)",
   "language": "python",
   "name": "python3"
  },
  "language_info": {
   "codemirror_mode": {
    "name": "ipython",
    "version": 3
   },
   "file_extension": ".py",
   "mimetype": "text/x-python",
   "name": "python",
   "nbconvert_exporter": "python",
   "pygments_lexer": "ipython3",
   "version": "3.9.21"
  }
 },
 "nbformat": 4,
 "nbformat_minor": 5
}
